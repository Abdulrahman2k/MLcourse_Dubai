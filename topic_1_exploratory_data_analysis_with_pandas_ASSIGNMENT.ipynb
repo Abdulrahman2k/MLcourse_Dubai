{
  "nbformat": 4,
  "nbformat_minor": 0,
  "metadata": {
    "anaconda-cloud": {},
    "hide_input": false,
    "kernelspec": {
      "display_name": "Python 3",
      "language": "python",
      "name": "python3"
    },
    "language_info": {
      "codemirror_mode": {
        "name": "ipython",
        "version": 3
      },
      "file_extension": ".py",
      "mimetype": "text/x-python",
      "name": "python",
      "nbconvert_exporter": "python",
      "pygments_lexer": "ipython3",
      "version": "3.7.6"
    },
    "toc": {
      "base_numbering": 1,
      "nav_menu": {},
      "number_sections": true,
      "sideBar": true,
      "skip_h1_title": false,
      "title_cell": "Table of Contents",
      "title_sidebar": "Contents",
      "toc_cell": false,
      "toc_position": {},
      "toc_section_display": true,
      "toc_window_display": false
    },
    "varInspector": {
      "cols": {
        "lenName": 16,
        "lenType": 16,
        "lenVar": 40
      },
      "kernels_config": {
        "python": {
          "delete_cmd_postfix": "",
          "delete_cmd_prefix": "del ",
          "library": "var_list.py",
          "varRefreshCmd": "print(var_dic_list())"
        },
        "r": {
          "delete_cmd_postfix": ") ",
          "delete_cmd_prefix": "rm(",
          "library": "var_list.r",
          "varRefreshCmd": "cat(var_dic_list()) "
        }
      },
      "types_to_exclude": [
        "module",
        "function",
        "builtin_function_or_method",
        "instance",
        "_Feature"
      ],
      "window_display": false
    },
    "colab": {
      "name": "topic-1-exploratory-data-analysis-with-pandas-ASSIGNMENT.ipynb",
      "provenance": [],
      "collapsed_sections": [],
      "toc_visible": true,
      "include_colab_link": true
    }
  },
  "cells": [
    {
      "cell_type": "markdown",
      "metadata": {
        "id": "view-in-github",
        "colab_type": "text"
      },
      "source": [
        "<a href=\"https://colab.research.google.com/github/Abdulrahman2k/mlcourse_dubai/blob/Lecture_01_EDA/topic_1_exploratory_data_analysis_with_pandas_ASSIGNMENT.ipynb\" target=\"_parent\"><img src=\"https://colab.research.google.com/assets/colab-badge.svg\" alt=\"Open In Colab\"/></a>"
      ]
    },
    {
      "cell_type": "markdown",
      "metadata": {
        "id": "eaRCUIdnwvBo",
        "colab_type": "text"
      },
      "source": [
        "<center>\n",
        "<img src=\"https://github.com/Abdulrahman2k/mlcourse_dubai/blob/master/img/ods_stickers.jpg?raw=1\">\n",
        "    \n",
        "## [mlcourse.ai](https://mlcourse.ai) - Open Machine Learning Course\n",
        "\n",
        "Author: [Yury Kashnitsky](https://www.linkedin.com/in/festline/). Translated and edited by [Sergey Isaev](https://www.linkedin.com/in/isvforall/), [Artem Trunov](https://www.linkedin.com/in/datamove/), [Anastasia Manokhina](https://www.linkedin.com/in/anastasiamanokhina/), and [Yuanyuan Pao](https://www.linkedin.com/in/yuanyuanpao/). All content is distributed under the [Creative Commons CC BY-NC-SA 4.0](https://creativecommons.org/licenses/by-nc-sa/4.0/) license."
      ]
    },
    {
      "cell_type": "markdown",
      "metadata": {
        "id": "goFh9QJ1wvBs",
        "colab_type": "text"
      },
      "source": [
        "# <center> Assignment #1 (demo)\n",
        "## <center>  Exploratory data analysis with Pandas\n",
        "\n",
        "\n",
        "**Same assignment as a [Kaggle Kernel](https://www.kaggle.com/kashnitsky/a1-demo-pandas-and-uci-adult-dataset) + [solution](https://www.kaggle.com/kashnitsky/a1-demo-pandas-and-uci-adult-dataset-solution).**"
      ]
    },
    {
      "cell_type": "markdown",
      "metadata": {
        "id": "4UNsgJ6OwvBu",
        "colab_type": "text"
      },
      "source": [
        "**In this task you should use Pandas to answer a few questions about the [Adult](https://archive.ics.uci.edu/ml/datasets/Adult) dataset. (You don't have to download the data – it's already  in the repository). Choose the answers in the [web-form](https://docs.google.com/forms/d/1uY7MpI2trKx6FLWZte0uVh3ULV4Cm_tDud0VDFGCOKg).**"
      ]
    },
    {
      "cell_type": "markdown",
      "metadata": {
        "id": "4KbtGfZmwvBv",
        "colab_type": "text"
      },
      "source": [
        "Unique values of all features (for more information, please see the links above):\n",
        "- `age`: continuous.\n",
        "- `workclass`: Private, Self-emp-not-inc, Self-emp-inc, Federal-gov, Local-gov, State-gov, Without-pay, Never-worked.\n",
        "- `fnlwgt`: continuous.\n",
        "- `education`: Bachelors, Some-college, 11th, HS-grad, Prof-school, Assoc-acdm, Assoc-voc, 9th, 7th-8th, 12th, Masters, 1st-4th, 10th, Doctorate, 5th-6th, Preschool.\n",
        "- `education-num`: continuous.\n",
        "- `marital-status`: Married-civ-spouse, Divorced, Never-married, Separated, Widowed, Married-spouse-absent, Married-AF-spouse.\n",
        "- `occupation`: Tech-support, Craft-repair, Other-service, Sales, Exec-managerial, Prof-specialty, Handlers-cleaners, Machine-op-inspct, Adm-clerical, Farming-fishing, Transport-moving, Priv-house-serv, Protective-serv, Armed-Forces.\n",
        "- `relationship`: Wife, Own-child, Husband, Not-in-family, Other-relative, Unmarried.\n",
        "- `race`: White, Asian-Pac-Islander, Amer-Indian-Eskimo, Other, Black.\n",
        "- `sex`: Female, Male.\n",
        "- `capital-gain`: continuous.\n",
        "- `capital-loss`: continuous.\n",
        "- `hours-per-week`: continuous.\n",
        "- `native-country`: United-States, Cambodia, England, Puerto-Rico, Canada, Germany, Outlying-US(Guam-USVI-etc), India, Japan, Greece, South, China, Cuba, Iran, Honduras, Philippines, Italy, Poland, Jamaica, Vietnam, Mexico, Portugal, Ireland, France, Dominican-Republic, Laos, Ecuador, Taiwan, Haiti, Columbia, Hungary, Guatemala, Nicaragua, Scotland, Thailand, Yugoslavia, El-Salvador, Trinadad&Tobago, Peru, Hong, Holand-Netherlands.   \n",
        "- `salary`: >50K,<=50K"
      ]
    },
    {
      "cell_type": "code",
      "metadata": {
        "ExecuteTime": {
          "end_time": "2020-02-26T19:15:19.285921Z",
          "start_time": "2020-02-26T19:15:18.073149Z"
        },
        "id": "tVsLeFlWwvBx",
        "colab_type": "code",
        "colab": {}
      },
      "source": [
        "import numpy as np\n",
        "import pandas as pd\n",
        "pd.set_option('display.max.columns', 100)\n",
        "# to draw pictures in jupyter notebook\n",
        "%matplotlib inline \n",
        "import matplotlib.pyplot as plt\n",
        "import seaborn as sns\n",
        "# we don't like warnings\n",
        "# you can comment the following 2 lines if you'd like to\n",
        "import warnings\n",
        "warnings.filterwarnings('ignore')"
      ],
      "execution_count": 0,
      "outputs": []
    },
    {
      "cell_type": "code",
      "metadata": {
        "id": "QtyWkME0wvB3",
        "colab_type": "code",
        "outputId": "971aa0cb-8c31-4a99-b2df-bfe91f29885c",
        "colab": {
          "base_uri": "https://localhost:8080/",
          "height": 394
        }
      },
      "source": [
        "data = pd.read_csv('https://raw.githubusercontent.com/Abdulrahman2k/mlcourse_dubai/master/data/adult.data.csv')\n",
        "data.head()"
      ],
      "execution_count": 0,
      "outputs": [
        {
          "output_type": "execute_result",
          "data": {
            "text/html": [
              "<div>\n",
              "<style scoped>\n",
              "    .dataframe tbody tr th:only-of-type {\n",
              "        vertical-align: middle;\n",
              "    }\n",
              "\n",
              "    .dataframe tbody tr th {\n",
              "        vertical-align: top;\n",
              "    }\n",
              "\n",
              "    .dataframe thead th {\n",
              "        text-align: right;\n",
              "    }\n",
              "</style>\n",
              "<table border=\"1\" class=\"dataframe\">\n",
              "  <thead>\n",
              "    <tr style=\"text-align: right;\">\n",
              "      <th></th>\n",
              "      <th>age</th>\n",
              "      <th>workclass</th>\n",
              "      <th>fnlwgt</th>\n",
              "      <th>education</th>\n",
              "      <th>education-num</th>\n",
              "      <th>marital-status</th>\n",
              "      <th>occupation</th>\n",
              "      <th>relationship</th>\n",
              "      <th>race</th>\n",
              "      <th>sex</th>\n",
              "      <th>capital-gain</th>\n",
              "      <th>capital-loss</th>\n",
              "      <th>hours-per-week</th>\n",
              "      <th>native-country</th>\n",
              "      <th>salary</th>\n",
              "    </tr>\n",
              "  </thead>\n",
              "  <tbody>\n",
              "    <tr>\n",
              "      <th>0</th>\n",
              "      <td>39</td>\n",
              "      <td>State-gov</td>\n",
              "      <td>77516</td>\n",
              "      <td>Bachelors</td>\n",
              "      <td>13</td>\n",
              "      <td>Never-married</td>\n",
              "      <td>Adm-clerical</td>\n",
              "      <td>Not-in-family</td>\n",
              "      <td>White</td>\n",
              "      <td>Male</td>\n",
              "      <td>2174</td>\n",
              "      <td>0</td>\n",
              "      <td>40</td>\n",
              "      <td>United-States</td>\n",
              "      <td>&lt;=50K</td>\n",
              "    </tr>\n",
              "    <tr>\n",
              "      <th>1</th>\n",
              "      <td>50</td>\n",
              "      <td>Self-emp-not-inc</td>\n",
              "      <td>83311</td>\n",
              "      <td>Bachelors</td>\n",
              "      <td>13</td>\n",
              "      <td>Married-civ-spouse</td>\n",
              "      <td>Exec-managerial</td>\n",
              "      <td>Husband</td>\n",
              "      <td>White</td>\n",
              "      <td>Male</td>\n",
              "      <td>0</td>\n",
              "      <td>0</td>\n",
              "      <td>13</td>\n",
              "      <td>United-States</td>\n",
              "      <td>&lt;=50K</td>\n",
              "    </tr>\n",
              "    <tr>\n",
              "      <th>2</th>\n",
              "      <td>38</td>\n",
              "      <td>Private</td>\n",
              "      <td>215646</td>\n",
              "      <td>HS-grad</td>\n",
              "      <td>9</td>\n",
              "      <td>Divorced</td>\n",
              "      <td>Handlers-cleaners</td>\n",
              "      <td>Not-in-family</td>\n",
              "      <td>White</td>\n",
              "      <td>Male</td>\n",
              "      <td>0</td>\n",
              "      <td>0</td>\n",
              "      <td>40</td>\n",
              "      <td>United-States</td>\n",
              "      <td>&lt;=50K</td>\n",
              "    </tr>\n",
              "    <tr>\n",
              "      <th>3</th>\n",
              "      <td>53</td>\n",
              "      <td>Private</td>\n",
              "      <td>234721</td>\n",
              "      <td>11th</td>\n",
              "      <td>7</td>\n",
              "      <td>Married-civ-spouse</td>\n",
              "      <td>Handlers-cleaners</td>\n",
              "      <td>Husband</td>\n",
              "      <td>Black</td>\n",
              "      <td>Male</td>\n",
              "      <td>0</td>\n",
              "      <td>0</td>\n",
              "      <td>40</td>\n",
              "      <td>United-States</td>\n",
              "      <td>&lt;=50K</td>\n",
              "    </tr>\n",
              "    <tr>\n",
              "      <th>4</th>\n",
              "      <td>28</td>\n",
              "      <td>Private</td>\n",
              "      <td>338409</td>\n",
              "      <td>Bachelors</td>\n",
              "      <td>13</td>\n",
              "      <td>Married-civ-spouse</td>\n",
              "      <td>Prof-specialty</td>\n",
              "      <td>Wife</td>\n",
              "      <td>Black</td>\n",
              "      <td>Female</td>\n",
              "      <td>0</td>\n",
              "      <td>0</td>\n",
              "      <td>40</td>\n",
              "      <td>Cuba</td>\n",
              "      <td>&lt;=50K</td>\n",
              "    </tr>\n",
              "  </tbody>\n",
              "</table>\n",
              "</div>"
            ],
            "text/plain": [
              "   age         workclass  fnlwgt  education  education-num  \\\n",
              "0   39         State-gov   77516  Bachelors             13   \n",
              "1   50  Self-emp-not-inc   83311  Bachelors             13   \n",
              "2   38           Private  215646    HS-grad              9   \n",
              "3   53           Private  234721       11th              7   \n",
              "4   28           Private  338409  Bachelors             13   \n",
              "\n",
              "       marital-status         occupation   relationship   race     sex  \\\n",
              "0       Never-married       Adm-clerical  Not-in-family  White    Male   \n",
              "1  Married-civ-spouse    Exec-managerial        Husband  White    Male   \n",
              "2            Divorced  Handlers-cleaners  Not-in-family  White    Male   \n",
              "3  Married-civ-spouse  Handlers-cleaners        Husband  Black    Male   \n",
              "4  Married-civ-spouse     Prof-specialty           Wife  Black  Female   \n",
              "\n",
              "   capital-gain  capital-loss  hours-per-week native-country salary  \n",
              "0          2174             0              40  United-States  <=50K  \n",
              "1             0             0              13  United-States  <=50K  \n",
              "2             0             0              40  United-States  <=50K  \n",
              "3             0             0              40  United-States  <=50K  \n",
              "4             0             0              40           Cuba  <=50K  "
            ]
          },
          "metadata": {
            "tags": []
          },
          "execution_count": 2
        }
      ]
    },
    {
      "cell_type": "markdown",
      "metadata": {
        "id": "Iup20LJ9wvB-",
        "colab_type": "text"
      },
      "source": [
        "**1. How many men and women (*sex* feature) are represented in this dataset?** "
      ]
    },
    {
      "cell_type": "code",
      "metadata": {
        "id": "eZX0HhqtwvCA",
        "colab_type": "code",
        "outputId": "239fb1ab-8f94-4928-cd2f-996470aced62",
        "colab": {
          "base_uri": "https://localhost:8080/",
          "height": 68
        }
      },
      "source": [
        "data[\"sex\"].value_counts()"
      ],
      "execution_count": 0,
      "outputs": [
        {
          "output_type": "execute_result",
          "data": {
            "text/plain": [
              "Male      21790\n",
              "Female    10771\n",
              "Name: sex, dtype: int64"
            ]
          },
          "metadata": {
            "tags": []
          },
          "execution_count": 4
        }
      ]
    },
    {
      "cell_type": "markdown",
      "metadata": {
        "id": "YHSxXJdvwvCF",
        "colab_type": "text"
      },
      "source": [
        "**2. What is the average age (*age* feature) of women?**"
      ]
    },
    {
      "cell_type": "code",
      "metadata": {
        "id": "A0adcpRowvCH",
        "colab_type": "code",
        "outputId": "4f8f54c6-c916-4ba6-ba77-9efd0e998069",
        "colab": {
          "base_uri": "https://localhost:8080/",
          "height": 34
        }
      },
      "source": [
        "data[data[\"sex\"]==\"Female\"][\"age\"].mean()"
      ],
      "execution_count": 0,
      "outputs": [
        {
          "output_type": "execute_result",
          "data": {
            "text/plain": [
              "36.85823043357163"
            ]
          },
          "metadata": {
            "tags": []
          },
          "execution_count": 5
        }
      ]
    },
    {
      "cell_type": "markdown",
      "metadata": {
        "id": "OQT6qm82wvCM",
        "colab_type": "text"
      },
      "source": [
        "**3. What is the percentage of German citizens (*native-country* feature)?**"
      ]
    },
    {
      "cell_type": "code",
      "metadata": {
        "id": "XqNMKmgqwvCN",
        "colab_type": "code",
        "outputId": "5f89771d-3f31-495c-c76b-c73e6dde564c",
        "colab": {
          "base_uri": "https://localhost:8080/",
          "height": 34
        }
      },
      "source": [
        "(data[data[\"native-country\"]==\"Germany\"][\"race\"].count()/data[\"race\"].count())*100\n",
        "#data[\"race\"].value_counts()"
      ],
      "execution_count": 0,
      "outputs": [
        {
          "output_type": "execute_result",
          "data": {
            "text/plain": [
              "0.42074874850281013"
            ]
          },
          "metadata": {
            "tags": []
          },
          "execution_count": 7
        }
      ]
    },
    {
      "cell_type": "markdown",
      "metadata": {
        "id": "IhUmrJahwvCS",
        "colab_type": "text"
      },
      "source": [
        "**4-5. What are the mean and standard deviation of age for those who earn more than 50K per year (*salary* feature) and those who earn less than 50K per year? **"
      ]
    },
    {
      "cell_type": "code",
      "metadata": {
        "id": "LI_esCpKwb0Y",
        "colab_type": "code",
        "outputId": "e5249f21-5bc0-469f-ff70-d382bfe53f20",
        "colab": {
          "base_uri": "https://localhost:8080/",
          "height": 173
        }
      },
      "source": [
        "columns_to_show = ['age']\n",
        "\n",
        "\n",
        "data.groupby(['salary'])[columns_to_show].agg([np.mean, np.std])"
      ],
      "execution_count": 0,
      "outputs": [
        {
          "output_type": "execute_result",
          "data": {
            "text/html": [
              "<div>\n",
              "<style scoped>\n",
              "    .dataframe tbody tr th:only-of-type {\n",
              "        vertical-align: middle;\n",
              "    }\n",
              "\n",
              "    .dataframe tbody tr th {\n",
              "        vertical-align: top;\n",
              "    }\n",
              "\n",
              "    .dataframe thead tr th {\n",
              "        text-align: left;\n",
              "    }\n",
              "\n",
              "    .dataframe thead tr:last-of-type th {\n",
              "        text-align: right;\n",
              "    }\n",
              "</style>\n",
              "<table border=\"1\" class=\"dataframe\">\n",
              "  <thead>\n",
              "    <tr>\n",
              "      <th></th>\n",
              "      <th colspan=\"2\" halign=\"left\">age</th>\n",
              "    </tr>\n",
              "    <tr>\n",
              "      <th></th>\n",
              "      <th>mean</th>\n",
              "      <th>std</th>\n",
              "    </tr>\n",
              "    <tr>\n",
              "      <th>salary</th>\n",
              "      <th></th>\n",
              "      <th></th>\n",
              "    </tr>\n",
              "  </thead>\n",
              "  <tbody>\n",
              "    <tr>\n",
              "      <th>&lt;=50K</th>\n",
              "      <td>36.783738</td>\n",
              "      <td>14.020088</td>\n",
              "    </tr>\n",
              "    <tr>\n",
              "      <th>&gt;50K</th>\n",
              "      <td>44.249841</td>\n",
              "      <td>10.519028</td>\n",
              "    </tr>\n",
              "  </tbody>\n",
              "</table>\n",
              "</div>"
            ],
            "text/plain": [
              "              age           \n",
              "             mean        std\n",
              "salary                      \n",
              "<=50K   36.783738  14.020088\n",
              ">50K    44.249841  10.519028"
            ]
          },
          "metadata": {
            "tags": []
          },
          "execution_count": 10
        }
      ]
    },
    {
      "cell_type": "markdown",
      "metadata": {
        "id": "ZXt-fZmjwvCY",
        "colab_type": "text"
      },
      "source": [
        "**6. Is it true that people who earn more than 50K have at least high school education? (*education – Bachelors, Prof-school, Assoc-acdm, Assoc-voc, Masters* or *Doctorate* feature)**"
      ]
    },
    {
      "cell_type": "code",
      "metadata": {
        "id": "ECkqmGl-wvCa",
        "colab_type": "code",
        "outputId": "70311de0-111f-4ffa-dd0d-bbf481b9b650",
        "colab": {
          "base_uri": "https://localhost:8080/",
          "height": 289
        }
      },
      "source": [
        "data[data['salary']=='>50K']['education'].value_counts()\n",
        "# as per data people earning more than 50K can come from any education background and do not have at least high school education"
      ],
      "execution_count": 0,
      "outputs": [
        {
          "output_type": "execute_result",
          "data": {
            "text/plain": [
              "Bachelors       2221\n",
              "HS-grad         1675\n",
              "Some-college    1387\n",
              "Masters          959\n",
              "Prof-school      423\n",
              "Assoc-voc        361\n",
              "Doctorate        306\n",
              "Assoc-acdm       265\n",
              "10th              62\n",
              "11th              60\n",
              "7th-8th           40\n",
              "12th              33\n",
              "9th               27\n",
              "5th-6th           16\n",
              "1st-4th            6\n",
              "Name: education, dtype: int64"
            ]
          },
          "metadata": {
            "tags": []
          },
          "execution_count": 11
        }
      ]
    },
    {
      "cell_type": "markdown",
      "metadata": {
        "id": "BJBWaF4bQycH",
        "colab_type": "text"
      },
      "source": [
        "## As per data people earning more than 50K can come from any education background and do not have at least high school education, so the answer is that the assumption that people earning more than 50k has at least high school eduction is **NOT** True"
      ]
    },
    {
      "cell_type": "markdown",
      "metadata": {
        "id": "3B2vwPiCwvCg",
        "colab_type": "text"
      },
      "source": [
        "**7. Display age statistics for each race (*race* feature) and each gender (*sex* feature). Use *groupby()* and *describe()*. Find the maximum age of men of *Amer-Indian-Eskimo* race.**"
      ]
    },
    {
      "cell_type": "code",
      "metadata": {
        "id": "Y3QRNsE6wvCh",
        "colab_type": "code",
        "outputId": "40e52658-2bf7-4afa-9bb8-1da3db55cd16",
        "colab": {
          "base_uri": "https://localhost:8080/",
          "height": 421
        }
      },
      "source": [
        "columns_to_group =   ['race','sex']\n",
        "\n",
        "columns_to_show =['age']\n",
        "\n",
        "\n",
        "data.groupby(columns_to_group)[columns_to_show].agg([np.mean, np.std,np.min, np.max])\n",
        "\n",
        "##the maximum age of men of Amer-Indian-Eskimo race.**"
      ],
      "execution_count": 0,
      "outputs": [
        {
          "output_type": "execute_result",
          "data": {
            "text/html": [
              "<div>\n",
              "<style scoped>\n",
              "    .dataframe tbody tr th:only-of-type {\n",
              "        vertical-align: middle;\n",
              "    }\n",
              "\n",
              "    .dataframe tbody tr th {\n",
              "        vertical-align: top;\n",
              "    }\n",
              "\n",
              "    .dataframe thead tr th {\n",
              "        text-align: left;\n",
              "    }\n",
              "\n",
              "    .dataframe thead tr:last-of-type th {\n",
              "        text-align: right;\n",
              "    }\n",
              "</style>\n",
              "<table border=\"1\" class=\"dataframe\">\n",
              "  <thead>\n",
              "    <tr>\n",
              "      <th></th>\n",
              "      <th></th>\n",
              "      <th colspan=\"4\" halign=\"left\">age</th>\n",
              "    </tr>\n",
              "    <tr>\n",
              "      <th></th>\n",
              "      <th></th>\n",
              "      <th>mean</th>\n",
              "      <th>std</th>\n",
              "      <th>amin</th>\n",
              "      <th>amax</th>\n",
              "    </tr>\n",
              "    <tr>\n",
              "      <th>race</th>\n",
              "      <th>sex</th>\n",
              "      <th></th>\n",
              "      <th></th>\n",
              "      <th></th>\n",
              "      <th></th>\n",
              "    </tr>\n",
              "  </thead>\n",
              "  <tbody>\n",
              "    <tr>\n",
              "      <th rowspan=\"2\" valign=\"top\">Amer-Indian-Eskimo</th>\n",
              "      <th>Female</th>\n",
              "      <td>37.117647</td>\n",
              "      <td>13.114991</td>\n",
              "      <td>17</td>\n",
              "      <td>80</td>\n",
              "    </tr>\n",
              "    <tr>\n",
              "      <th>Male</th>\n",
              "      <td>37.208333</td>\n",
              "      <td>12.049563</td>\n",
              "      <td>17</td>\n",
              "      <td>82</td>\n",
              "    </tr>\n",
              "    <tr>\n",
              "      <th rowspan=\"2\" valign=\"top\">Asian-Pac-Islander</th>\n",
              "      <th>Female</th>\n",
              "      <td>35.089595</td>\n",
              "      <td>12.300845</td>\n",
              "      <td>17</td>\n",
              "      <td>75</td>\n",
              "    </tr>\n",
              "    <tr>\n",
              "      <th>Male</th>\n",
              "      <td>39.073593</td>\n",
              "      <td>12.883944</td>\n",
              "      <td>18</td>\n",
              "      <td>90</td>\n",
              "    </tr>\n",
              "    <tr>\n",
              "      <th rowspan=\"2\" valign=\"top\">Black</th>\n",
              "      <th>Female</th>\n",
              "      <td>37.854019</td>\n",
              "      <td>12.637197</td>\n",
              "      <td>17</td>\n",
              "      <td>90</td>\n",
              "    </tr>\n",
              "    <tr>\n",
              "      <th>Male</th>\n",
              "      <td>37.682600</td>\n",
              "      <td>12.882612</td>\n",
              "      <td>17</td>\n",
              "      <td>90</td>\n",
              "    </tr>\n",
              "    <tr>\n",
              "      <th rowspan=\"2\" valign=\"top\">Other</th>\n",
              "      <th>Female</th>\n",
              "      <td>31.678899</td>\n",
              "      <td>11.631599</td>\n",
              "      <td>17</td>\n",
              "      <td>74</td>\n",
              "    </tr>\n",
              "    <tr>\n",
              "      <th>Male</th>\n",
              "      <td>34.654321</td>\n",
              "      <td>11.355531</td>\n",
              "      <td>17</td>\n",
              "      <td>77</td>\n",
              "    </tr>\n",
              "    <tr>\n",
              "      <th rowspan=\"2\" valign=\"top\">White</th>\n",
              "      <th>Female</th>\n",
              "      <td>36.811618</td>\n",
              "      <td>14.329093</td>\n",
              "      <td>17</td>\n",
              "      <td>90</td>\n",
              "    </tr>\n",
              "    <tr>\n",
              "      <th>Male</th>\n",
              "      <td>39.652498</td>\n",
              "      <td>13.436029</td>\n",
              "      <td>17</td>\n",
              "      <td>90</td>\n",
              "    </tr>\n",
              "  </tbody>\n",
              "</table>\n",
              "</div>"
            ],
            "text/plain": [
              "                                 age                     \n",
              "                                mean        std amin amax\n",
              "race               sex                                   \n",
              "Amer-Indian-Eskimo Female  37.117647  13.114991   17   80\n",
              "                   Male    37.208333  12.049563   17   82\n",
              "Asian-Pac-Islander Female  35.089595  12.300845   17   75\n",
              "                   Male    39.073593  12.883944   18   90\n",
              "Black              Female  37.854019  12.637197   17   90\n",
              "                   Male    37.682600  12.882612   17   90\n",
              "Other              Female  31.678899  11.631599   17   74\n",
              "                   Male    34.654321  11.355531   17   77\n",
              "White              Female  36.811618  14.329093   17   90\n",
              "                   Male    39.652498  13.436029   17   90"
            ]
          },
          "metadata": {
            "tags": []
          },
          "execution_count": 17
        }
      ]
    },
    {
      "cell_type": "markdown",
      "metadata": {
        "id": "VXvAyRUgQqDw",
        "colab_type": "text"
      },
      "source": [
        "## The maximum age of men of Amer-Indian-Eskimo race is **82** Years "
      ]
    },
    {
      "cell_type": "markdown",
      "metadata": {
        "id": "hrF1zHsxwvCm",
        "colab_type": "text"
      },
      "source": [
        "**8. Among whom is the proportion of those who earn a lot (>50K) greater: married or single men (*marital-status* feature)? Consider as married those who have a *marital-status* starting with *Married* (Married-civ-spouse, Married-spouse-absent or Married-AF-spouse), the rest are considered bachelors.**"
      ]
    },
    {
      "cell_type": "code",
      "metadata": {
        "id": "XDU1bV9KwvCn",
        "colab_type": "code",
        "colab": {}
      },
      "source": [
        "Married_function =lambda maritalstatus:maritalstatus.startswith('Married')\n",
        "Unmarried_function =lambda maritalstatus:not(maritalstatus.startswith('Married'))\n",
        "Greater_earning = lambda earning:earning=='>50K'\n"
      ],
      "execution_count": 0,
      "outputs": []
    },
    {
      "cell_type": "code",
      "metadata": {
        "id": "4_C_M_osmLKl",
        "colab_type": "code",
        "outputId": "1c2c85c4-cfeb-493f-fe13-29779761a769",
        "colab": {
          "base_uri": "https://localhost:8080/",
          "height": 34
        }
      },
      "source": [
        "##data[data['marital-status'].str.slice(0,7)=='Married']\n",
        "round( (data[data['marital-status'].apply(Married_function) & data['salary'].apply(Greater_earning)]['age'].count() / data['age'].count()) * 100)"
      ],
      "execution_count": 0,
      "outputs": [
        {
          "output_type": "execute_result",
          "data": {
            "text/plain": [
              "21.0"
            ]
          },
          "metadata": {
            "tags": []
          },
          "execution_count": 97
        }
      ]
    },
    {
      "cell_type": "code",
      "metadata": {
        "id": "DLE09BzqGa1Z",
        "colab_type": "code",
        "outputId": "588fbe4f-a891-43d8-afaf-6b056109523a",
        "colab": {
          "base_uri": "https://localhost:8080/",
          "height": 34
        }
      },
      "source": [
        "\n",
        "round( (data[data['marital-status'].apply(Unmarried_function) & data['salary'].apply(Greater_earning)]['age'].count() / data['age'].count()) * 100)"
      ],
      "execution_count": 0,
      "outputs": [
        {
          "output_type": "execute_result",
          "data": {
            "text/plain": [
              "3.0"
            ]
          },
          "metadata": {
            "tags": []
          },
          "execution_count": 98
        }
      ]
    },
    {
      "cell_type": "markdown",
      "metadata": {
        "id": "2j3O4eO2Go4j",
        "colab_type": "text"
      },
      "source": [
        "### As per Data Around 21 Percent of All Married Personnel earn more than 50K  and only 3 percent of Unmarried Personnel earn more than 50K"
      ]
    },
    {
      "cell_type": "code",
      "metadata": {
        "id": "9ONBVFPsEQHX",
        "colab_type": "code",
        "colab": {}
      },
      "source": [
        "columns_to_group =   ['race','sex']\n",
        "\n",
        "columns_to_show =['age']\n",
        "\n",
        "\n",
        "data.groupby(columns_to_group)[columns_to_show].agg([np.mean, np.std,np.min, np.max])"
      ],
      "execution_count": 0,
      "outputs": []
    },
    {
      "cell_type": "markdown",
      "metadata": {
        "id": "lsb3PtEzwvCs",
        "colab_type": "text"
      },
      "source": [
        "**9. What is the maximum number of hours a person works per week (*hours-per-week* feature)? How many people work such a number of hours, and what is the percentage of those who earn a lot (>50K) among them?**"
      ]
    },
    {
      "cell_type": "code",
      "metadata": {
        "id": "NA-CItCNwvCt",
        "colab_type": "code",
        "outputId": "02de745e-2c3b-4896-faad-7f6d4c5febed",
        "colab": {
          "base_uri": "https://localhost:8080/",
          "height": 34
        }
      },
      "source": [
        "# You code here\n",
        "np.max(data['hours-per-week'])"
      ],
      "execution_count": 0,
      "outputs": [
        {
          "output_type": "execute_result",
          "data": {
            "text/plain": [
              "99"
            ]
          },
          "metadata": {
            "tags": []
          },
          "execution_count": 6
        }
      ]
    },
    {
      "cell_type": "markdown",
      "metadata": {
        "id": "dwW5_G6MJUv-",
        "colab_type": "text"
      },
      "source": [
        "### The Maximum hours per week worked is **99** Hours"
      ]
    },
    {
      "cell_type": "code",
      "metadata": {
        "id": "kHdyhoKuIAlp",
        "colab_type": "code",
        "outputId": "606acb00-6dd9-4974-e44a-0d88d6c395d0",
        "colab": {
          "base_uri": "https://localhost:8080/",
          "height": 34
        }
      },
      "source": [
        "data[data['hours-per-week']==np.max(data['hours-per-week'])]['age'].count()"
      ],
      "execution_count": 0,
      "outputs": [
        {
          "output_type": "execute_result",
          "data": {
            "text/plain": [
              "85"
            ]
          },
          "metadata": {
            "tags": []
          },
          "execution_count": 7
        }
      ]
    },
    {
      "cell_type": "markdown",
      "metadata": {
        "id": "v1lWvMqWJtPi",
        "colab_type": "text"
      },
      "source": [
        "### The Number of Personnel working the Maximum Number of hours (**99** Hours) worked per week is **85** Persons"
      ]
    },
    {
      "cell_type": "markdown",
      "metadata": {
        "id": "LiDwACM5Jqax",
        "colab_type": "text"
      },
      "source": [
        ""
      ]
    },
    {
      "cell_type": "code",
      "metadata": {
        "id": "aHClUo2EIXtq",
        "colab_type": "code",
        "outputId": "34c220d9-60b2-4d58-ae06-afbe8e76fd33",
        "colab": {
          "base_uri": "https://localhost:8080/",
          "height": 34
        }
      },
      "source": [
        "perc_working_max_and_rich = round((data[ (data['salary'].apply(Greater_earning) ) & (data['hours-per-week']==np.max(data['hours-per-week']))].shape[0] / data[data['hours-per-week']==np.max(data['hours-per-week'])].shape[0]) * 100 ,2)\n",
        "print (\" the Percentage of personnel working maximum hours and having earining greater than 50K is  {0}%\".format(perc_working_max_and_rich))\n"
      ],
      "execution_count": 0,
      "outputs": [
        {
          "output_type": "stream",
          "text": [
            " the Percentage of personnel working maximum hours and having earining greater than 50K is  29.41%\n"
          ],
          "name": "stdout"
        }
      ]
    },
    {
      "cell_type": "markdown",
      "metadata": {
        "id": "QTwxjSlXwvCy",
        "colab_type": "text"
      },
      "source": [
        "**10. Count the average time of work (*hours-per-week*) for those who earn a little and a lot (*salary*) for each country (*native-country*). What will these be for Japan?**"
      ]
    },
    {
      "cell_type": "code",
      "metadata": {
        "id": "U5zojn2CwvC0",
        "colab_type": "code",
        "outputId": "fd32b6f5-be4d-49e8-c7d4-bc9faa58155b",
        "colab": {
          "base_uri": "https://localhost:8080/",
          "height": 199
        }
      },
      "source": [
        "columns_to_group =   ['native-country','salary']\n",
        "\n",
        "columns_to_show =['hours-per-week']\n",
        "\n",
        "\n",
        "data.groupby(columns_to_group)[columns_to_show].agg([np.mean]).T.round(2)\n",
        "\n"
      ],
      "execution_count": 0,
      "outputs": [
        {
          "output_type": "execute_result",
          "data": {
            "text/html": [
              "<div>\n",
              "<style scoped>\n",
              "    .dataframe tbody tr th:only-of-type {\n",
              "        vertical-align: middle;\n",
              "    }\n",
              "\n",
              "    .dataframe tbody tr th {\n",
              "        vertical-align: top;\n",
              "    }\n",
              "\n",
              "    .dataframe thead tr th {\n",
              "        text-align: left;\n",
              "    }\n",
              "</style>\n",
              "<table border=\"1\" class=\"dataframe\">\n",
              "  <thead>\n",
              "    <tr>\n",
              "      <th></th>\n",
              "      <th>native-country</th>\n",
              "      <th colspan=\"2\" halign=\"left\">?</th>\n",
              "      <th colspan=\"2\" halign=\"left\">Cambodia</th>\n",
              "      <th colspan=\"2\" halign=\"left\">Canada</th>\n",
              "      <th colspan=\"2\" halign=\"left\">China</th>\n",
              "      <th colspan=\"2\" halign=\"left\">Columbia</th>\n",
              "      <th colspan=\"2\" halign=\"left\">Cuba</th>\n",
              "      <th colspan=\"2\" halign=\"left\">Dominican-Republic</th>\n",
              "      <th colspan=\"2\" halign=\"left\">Ecuador</th>\n",
              "      <th colspan=\"2\" halign=\"left\">El-Salvador</th>\n",
              "      <th colspan=\"2\" halign=\"left\">England</th>\n",
              "      <th colspan=\"2\" halign=\"left\">France</th>\n",
              "      <th colspan=\"2\" halign=\"left\">Germany</th>\n",
              "      <th colspan=\"2\" halign=\"left\">Greece</th>\n",
              "      <th colspan=\"2\" halign=\"left\">Guatemala</th>\n",
              "      <th colspan=\"2\" halign=\"left\">Haiti</th>\n",
              "      <th>Holand-Netherlands</th>\n",
              "      <th colspan=\"2\" halign=\"left\">Honduras</th>\n",
              "      <th colspan=\"2\" halign=\"left\">Hong</th>\n",
              "      <th colspan=\"2\" halign=\"left\">Hungary</th>\n",
              "      <th colspan=\"2\" halign=\"left\">India</th>\n",
              "      <th colspan=\"2\" halign=\"left\">Iran</th>\n",
              "      <th colspan=\"2\" halign=\"left\">Ireland</th>\n",
              "      <th colspan=\"2\" halign=\"left\">Italy</th>\n",
              "      <th colspan=\"2\" halign=\"left\">Jamaica</th>\n",
              "      <th colspan=\"2\" halign=\"left\">Japan</th>\n",
              "      <th colspan=\"2\" halign=\"left\">Laos</th>\n",
              "      <th colspan=\"2\" halign=\"left\">Mexico</th>\n",
              "      <th colspan=\"2\" halign=\"left\">Nicaragua</th>\n",
              "      <th>Outlying-US(Guam-USVI-etc)</th>\n",
              "      <th colspan=\"2\" halign=\"left\">Peru</th>\n",
              "      <th colspan=\"2\" halign=\"left\">Philippines</th>\n",
              "      <th colspan=\"2\" halign=\"left\">Poland</th>\n",
              "      <th colspan=\"2\" halign=\"left\">Portugal</th>\n",
              "      <th colspan=\"2\" halign=\"left\">Puerto-Rico</th>\n",
              "      <th colspan=\"2\" halign=\"left\">Scotland</th>\n",
              "      <th colspan=\"2\" halign=\"left\">South</th>\n",
              "      <th colspan=\"2\" halign=\"left\">Taiwan</th>\n",
              "      <th colspan=\"2\" halign=\"left\">Thailand</th>\n",
              "      <th colspan=\"2\" halign=\"left\">Trinadad&amp;Tobago</th>\n",
              "      <th colspan=\"2\" halign=\"left\">United-States</th>\n",
              "      <th colspan=\"2\" halign=\"left\">Vietnam</th>\n",
              "      <th colspan=\"2\" halign=\"left\">Yugoslavia</th>\n",
              "    </tr>\n",
              "    <tr>\n",
              "      <th></th>\n",
              "      <th>salary</th>\n",
              "      <th>&lt;=50K</th>\n",
              "      <th>&gt;50K</th>\n",
              "      <th>&lt;=50K</th>\n",
              "      <th>&gt;50K</th>\n",
              "      <th>&lt;=50K</th>\n",
              "      <th>&gt;50K</th>\n",
              "      <th>&lt;=50K</th>\n",
              "      <th>&gt;50K</th>\n",
              "      <th>&lt;=50K</th>\n",
              "      <th>&gt;50K</th>\n",
              "      <th>&lt;=50K</th>\n",
              "      <th>&gt;50K</th>\n",
              "      <th>&lt;=50K</th>\n",
              "      <th>&gt;50K</th>\n",
              "      <th>&lt;=50K</th>\n",
              "      <th>&gt;50K</th>\n",
              "      <th>&lt;=50K</th>\n",
              "      <th>&gt;50K</th>\n",
              "      <th>&lt;=50K</th>\n",
              "      <th>&gt;50K</th>\n",
              "      <th>&lt;=50K</th>\n",
              "      <th>&gt;50K</th>\n",
              "      <th>&lt;=50K</th>\n",
              "      <th>&gt;50K</th>\n",
              "      <th>&lt;=50K</th>\n",
              "      <th>&gt;50K</th>\n",
              "      <th>&lt;=50K</th>\n",
              "      <th>&gt;50K</th>\n",
              "      <th>&lt;=50K</th>\n",
              "      <th>&gt;50K</th>\n",
              "      <th>&lt;=50K</th>\n",
              "      <th>&lt;=50K</th>\n",
              "      <th>&gt;50K</th>\n",
              "      <th>&lt;=50K</th>\n",
              "      <th>&gt;50K</th>\n",
              "      <th>&lt;=50K</th>\n",
              "      <th>&gt;50K</th>\n",
              "      <th>&lt;=50K</th>\n",
              "      <th>&gt;50K</th>\n",
              "      <th>&lt;=50K</th>\n",
              "      <th>&gt;50K</th>\n",
              "      <th>&lt;=50K</th>\n",
              "      <th>&gt;50K</th>\n",
              "      <th>&lt;=50K</th>\n",
              "      <th>&gt;50K</th>\n",
              "      <th>&lt;=50K</th>\n",
              "      <th>&gt;50K</th>\n",
              "      <th>&lt;=50K</th>\n",
              "      <th>&gt;50K</th>\n",
              "      <th>&lt;=50K</th>\n",
              "      <th>&gt;50K</th>\n",
              "      <th>&lt;=50K</th>\n",
              "      <th>&gt;50K</th>\n",
              "      <th>&lt;=50K</th>\n",
              "      <th>&gt;50K</th>\n",
              "      <th>&lt;=50K</th>\n",
              "      <th>&lt;=50K</th>\n",
              "      <th>&gt;50K</th>\n",
              "      <th>&lt;=50K</th>\n",
              "      <th>&gt;50K</th>\n",
              "      <th>&lt;=50K</th>\n",
              "      <th>&gt;50K</th>\n",
              "      <th>&lt;=50K</th>\n",
              "      <th>&gt;50K</th>\n",
              "      <th>&lt;=50K</th>\n",
              "      <th>&gt;50K</th>\n",
              "      <th>&lt;=50K</th>\n",
              "      <th>&gt;50K</th>\n",
              "      <th>&lt;=50K</th>\n",
              "      <th>&gt;50K</th>\n",
              "      <th>&lt;=50K</th>\n",
              "      <th>&gt;50K</th>\n",
              "      <th>&lt;=50K</th>\n",
              "      <th>&gt;50K</th>\n",
              "      <th>&lt;=50K</th>\n",
              "      <th>&gt;50K</th>\n",
              "      <th>&lt;=50K</th>\n",
              "      <th>&gt;50K</th>\n",
              "      <th>&lt;=50K</th>\n",
              "      <th>&gt;50K</th>\n",
              "      <th>&lt;=50K</th>\n",
              "      <th>&gt;50K</th>\n",
              "    </tr>\n",
              "  </thead>\n",
              "  <tbody>\n",
              "    <tr>\n",
              "      <th>hours-per-week</th>\n",
              "      <th>mean</th>\n",
              "      <td>40.16</td>\n",
              "      <td>45.55</td>\n",
              "      <td>41.42</td>\n",
              "      <td>40.0</td>\n",
              "      <td>37.91</td>\n",
              "      <td>45.64</td>\n",
              "      <td>37.38</td>\n",
              "      <td>38.9</td>\n",
              "      <td>38.68</td>\n",
              "      <td>50.0</td>\n",
              "      <td>37.99</td>\n",
              "      <td>42.44</td>\n",
              "      <td>42.34</td>\n",
              "      <td>47.0</td>\n",
              "      <td>38.04</td>\n",
              "      <td>48.75</td>\n",
              "      <td>36.03</td>\n",
              "      <td>45.0</td>\n",
              "      <td>40.48</td>\n",
              "      <td>44.53</td>\n",
              "      <td>41.06</td>\n",
              "      <td>50.75</td>\n",
              "      <td>39.14</td>\n",
              "      <td>44.98</td>\n",
              "      <td>41.81</td>\n",
              "      <td>50.62</td>\n",
              "      <td>39.36</td>\n",
              "      <td>36.67</td>\n",
              "      <td>36.33</td>\n",
              "      <td>42.75</td>\n",
              "      <td>40.0</td>\n",
              "      <td>34.33</td>\n",
              "      <td>60.0</td>\n",
              "      <td>39.14</td>\n",
              "      <td>45.0</td>\n",
              "      <td>31.3</td>\n",
              "      <td>50.0</td>\n",
              "      <td>38.23</td>\n",
              "      <td>46.48</td>\n",
              "      <td>41.44</td>\n",
              "      <td>47.5</td>\n",
              "      <td>40.95</td>\n",
              "      <td>48.0</td>\n",
              "      <td>39.62</td>\n",
              "      <td>45.4</td>\n",
              "      <td>38.24</td>\n",
              "      <td>41.1</td>\n",
              "      <td>41.0</td>\n",
              "      <td>47.96</td>\n",
              "      <td>40.38</td>\n",
              "      <td>40.0</td>\n",
              "      <td>40.0</td>\n",
              "      <td>46.58</td>\n",
              "      <td>36.09</td>\n",
              "      <td>37.5</td>\n",
              "      <td>41.86</td>\n",
              "      <td>35.07</td>\n",
              "      <td>40.0</td>\n",
              "      <td>38.07</td>\n",
              "      <td>43.03</td>\n",
              "      <td>38.17</td>\n",
              "      <td>39.0</td>\n",
              "      <td>41.94</td>\n",
              "      <td>41.5</td>\n",
              "      <td>38.47</td>\n",
              "      <td>39.42</td>\n",
              "      <td>39.44</td>\n",
              "      <td>46.67</td>\n",
              "      <td>40.16</td>\n",
              "      <td>51.44</td>\n",
              "      <td>33.77</td>\n",
              "      <td>46.8</td>\n",
              "      <td>42.87</td>\n",
              "      <td>58.33</td>\n",
              "      <td>37.06</td>\n",
              "      <td>40.0</td>\n",
              "      <td>38.8</td>\n",
              "      <td>45.51</td>\n",
              "      <td>37.19</td>\n",
              "      <td>39.2</td>\n",
              "      <td>41.6</td>\n",
              "      <td>49.5</td>\n",
              "    </tr>\n",
              "  </tbody>\n",
              "</table>\n",
              "</div>"
            ],
            "text/plain": [
              "native-country           ?        Cambodia       Canada         China        \\\n",
              "salary               <=50K   >50K    <=50K  >50K  <=50K   >50K  <=50K  >50K   \n",
              "hours-per-week mean  40.16  45.55    41.42  40.0  37.91  45.64  37.38  38.9   \n",
              "\n",
              "native-country      Columbia         Cuba        Dominican-Republic        \\\n",
              "salary                 <=50K  >50K  <=50K   >50K              <=50K  >50K   \n",
              "hours-per-week mean    38.68  50.0  37.99  42.44              42.34  47.0   \n",
              "\n",
              "native-country      Ecuador        El-Salvador       England        France  \\\n",
              "salary                <=50K   >50K       <=50K  >50K   <=50K   >50K  <=50K   \n",
              "hours-per-week mean   38.04  48.75       36.03  45.0   40.48  44.53  41.06   \n",
              "\n",
              "native-country             Germany        Greece        Guatemala         \\\n",
              "salary                >50K   <=50K   >50K  <=50K   >50K     <=50K   >50K   \n",
              "hours-per-week mean  50.75   39.14  44.98  41.81  50.62     39.36  36.67   \n",
              "\n",
              "native-country       Haiti        Holand-Netherlands Honduras         Hong  \\\n",
              "salary               <=50K   >50K              <=50K    <=50K  >50K  <=50K   \n",
              "hours-per-week mean  36.33  42.75               40.0    34.33  60.0  39.14   \n",
              "\n",
              "native-country            Hungary        India          Iran       Ireland  \\\n",
              "salary               >50K   <=50K  >50K  <=50K   >50K  <=50K  >50K   <=50K   \n",
              "hours-per-week mean  45.0    31.3  50.0  38.23  46.48  41.44  47.5   40.95   \n",
              "\n",
              "native-country             Italy       Jamaica       Japan          Laos  \\\n",
              "salary               >50K  <=50K  >50K   <=50K  >50K <=50K   >50K  <=50K   \n",
              "hours-per-week mean  48.0  39.62  45.4   38.24  41.1  41.0  47.96  40.38   \n",
              "\n",
              "native-country            Mexico        Nicaragua        \\\n",
              "salary               >50K  <=50K   >50K     <=50K  >50K   \n",
              "hours-per-week mean  40.0   40.0  46.58     36.09  37.5   \n",
              "\n",
              "native-country      Outlying-US(Guam-USVI-etc)   Peru       Philippines  \\\n",
              "salary                                   <=50K  <=50K  >50K       <=50K   \n",
              "hours-per-week mean                      41.86  35.07  40.0       38.07   \n",
              "\n",
              "native-country             Poland       Portugal       Puerto-Rico         \\\n",
              "salary                >50K  <=50K  >50K    <=50K  >50K       <=50K   >50K   \n",
              "hours-per-week mean  43.03  38.17  39.0    41.94  41.5       38.47  39.42   \n",
              "\n",
              "native-country      Scotland         South        Taiwan       Thailand  \\\n",
              "salary                 <=50K   >50K  <=50K   >50K  <=50K  >50K    <=50K   \n",
              "hours-per-week mean    39.44  46.67  40.16  51.44  33.77  46.8    42.87   \n",
              "\n",
              "native-country             Trinadad&Tobago       United-States        Vietnam  \\\n",
              "salary                >50K           <=50K  >50K         <=50K   >50K   <=50K   \n",
              "hours-per-week mean  58.33           37.06  40.0          38.8  45.51   37.19   \n",
              "\n",
              "native-country            Yugoslavia        \n",
              "salary               >50K      <=50K  >50K  \n",
              "hours-per-week mean  39.2       41.6  49.5  "
            ]
          },
          "metadata": {
            "tags": []
          },
          "execution_count": 5
        }
      ]
    },
    {
      "cell_type": "code",
      "metadata": {
        "id": "Q0dNkgwUPg18",
        "colab_type": "code",
        "outputId": "d5a9180f-844b-4805-a535-2745aea2edcf",
        "colab": {
          "base_uri": "https://localhost:8080/",
          "height": 111
        }
      },
      "source": [
        "data[data['native-country']=='Japan'].groupby(columns_to_group)[columns_to_show].agg([np.mean]).T.round(2)"
      ],
      "execution_count": 0,
      "outputs": [
        {
          "output_type": "execute_result",
          "data": {
            "text/html": [
              "<div>\n",
              "<style scoped>\n",
              "    .dataframe tbody tr th:only-of-type {\n",
              "        vertical-align: middle;\n",
              "    }\n",
              "\n",
              "    .dataframe tbody tr th {\n",
              "        vertical-align: top;\n",
              "    }\n",
              "\n",
              "    .dataframe thead tr th {\n",
              "        text-align: left;\n",
              "    }\n",
              "</style>\n",
              "<table border=\"1\" class=\"dataframe\">\n",
              "  <thead>\n",
              "    <tr>\n",
              "      <th></th>\n",
              "      <th>native-country</th>\n",
              "      <th colspan=\"2\" halign=\"left\">Japan</th>\n",
              "    </tr>\n",
              "    <tr>\n",
              "      <th></th>\n",
              "      <th>salary</th>\n",
              "      <th>&lt;=50K</th>\n",
              "      <th>&gt;50K</th>\n",
              "    </tr>\n",
              "  </thead>\n",
              "  <tbody>\n",
              "    <tr>\n",
              "      <th>hours-per-week</th>\n",
              "      <th>mean</th>\n",
              "      <td>41.0</td>\n",
              "      <td>47.96</td>\n",
              "    </tr>\n",
              "  </tbody>\n",
              "</table>\n",
              "</div>"
            ],
            "text/plain": [
              "native-country      Japan       \n",
              "salary              <=50K   >50K\n",
              "hours-per-week mean  41.0  47.96"
            ]
          },
          "metadata": {
            "tags": []
          },
          "execution_count": 7
        }
      ]
    },
    {
      "cell_type": "markdown",
      "metadata": {
        "id": "D3v2CzR9Pz0y",
        "colab_type": "text"
      },
      "source": [
        "### The average number of hours for personnel earning more than 50K is **41.00** hours and the average number of hours per week for personnel earning more than 50k is **47.96** hours per week"
      ]
    }
  ]
}